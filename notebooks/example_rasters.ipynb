{
 "cells": [
  {
   "cell_type": "code",
   "execution_count": 22,
   "metadata": {},
   "outputs": [
    {
     "name": "stdout",
     "output_type": "stream",
     "text": [
      "Populating the interactive namespace from numpy and matplotlib\n"
     ]
    },
    {
     "data": {
      "text/plain": [
       "<module 'ephys.rasters' from '/usr/local/home/mturvey/Code/ephys-analysis/ephys/rasters.py'>"
      ]
     },
     "execution_count": 22,
     "metadata": {},
     "output_type": "execute_result"
    }
   ],
   "source": [
    "import sys, os\n",
    "from ephys import rasters, core, events\n",
    "import matplotlib.pyplot as plt\n",
    "import numpy as np\n",
    "%pylab inline\n",
    "from importlib import reload\n",
    "reload(rasters)"
   ]
  },
  {
   "cell_type": "code",
   "execution_count": 7,
   "metadata": {},
   "outputs": [],
   "source": [
    "block_path = '/mnt/cube/nyoni-raw/test_data/201901300906-B970-block-9-AP-1250-ML-750-Z-1750/'\n",
    "\n",
    "spikes = core.load_spikes(block_path)\n",
    "trials = events.oe_load_trials(block_path)\n",
    "fs = core.load_fs(block_path)\n",
    "clusters = core.load_clusters(block_path)"
   ]
  },
  {
   "cell_type": "code",
   "execution_count": 9,
   "metadata": {},
   "outputs": [
    {
     "name": "stdout",
     "output_type": "stream",
     "text": [
      "1\n",
      "    cluster   quality\n",
      "0         1  unsorted\n",
      "1         2  unsorted\n",
      "2         3  unsorted\n",
      "3         4  unsorted\n",
      "4         5  unsorted\n",
      "5         6  unsorted\n",
      "6         7  unsorted\n",
      "7         8  unsorted\n",
      "8         9  unsorted\n",
      "9        10  unsorted\n",
      "10       11  unsorted\n",
      "11       12  unsorted\n",
      "12       13  unsorted\n",
      "13       14  unsorted\n",
      "14       15  unsorted\n",
      "15       16  unsorted\n",
      "16       17  unsorted\n",
      "17       18  unsorted\n",
      "18       19  unsorted\n",
      "19       20  unsorted\n",
      "20       21  unsorted\n",
      "21       22  unsorted\n",
      "22       23  unsorted\n",
      "23       24  unsorted\n",
      "24       25  unsorted\n",
      "25       26  unsorted\n",
      "26       27  unsorted\n",
      "27       28  unsorted\n",
      "28       29  unsorted\n",
      "29       30  unsorted\n",
      "30       31  unsorted\n",
      "31       32  unsorted\n",
      "32       33  unsorted\n",
      "33       34  unsorted\n",
      "34       35  unsorted\n",
      "35       36  unsorted\n",
      "36       37  unsorted\n",
      "37       38  unsorted\n",
      "38       39  unsorted\n",
      "39       40  unsorted\n",
      "40       41  unsorted\n",
      "41       42  unsorted\n",
      "42       43  unsorted\n",
      "       cluster  recording  time_samples\n",
      "0            1          0             8\n",
      "1           15          0            23\n",
      "2            9          0            50\n",
      "3           29          0            79\n",
      "4           24          0           101\n",
      "5           41          0           117\n",
      "6           31          0           140\n",
      "7           15          0           155\n",
      "8           36          0           171\n",
      "9            9          0           188\n",
      "10          21          0           217\n",
      "11           3          0           234\n",
      "12          35          0           260\n",
      "13          36          0           302\n",
      "14          41          0           329\n",
      "15          40          0           340\n",
      "16          35          0           356\n",
      "17          17          0           368\n",
      "18          13          0           381\n",
      "19          29          0           394\n",
      "20          13          0           409\n",
      "21           7          0           425\n",
      "22          18          0           446\n",
      "23          36          0           474\n",
      "24           9          0           491\n",
      "25          42          0           502\n",
      "26           7          0           515\n",
      "27          14          0           528\n",
      "28          29          0           540\n",
      "29          37          0           556\n",
      "...        ...        ...           ...\n",
      "60164       41          0       1300858\n",
      "60165        6          0       1300885\n",
      "60166       38          0       1300905\n",
      "60167        8          0       1300931\n",
      "60168       10          0       1300945\n",
      "60169       37          0       1300960\n",
      "60170        8          0       1300984\n",
      "60171       37          0       1301005\n",
      "60172       14          0       1301022\n",
      "60173       38          0       1301034\n",
      "60174       37          0       1301054\n",
      "60175       38          0       1301068\n",
      "60176        7          0       1301097\n",
      "60177       17          0       1301122\n",
      "60178       13          0       1301145\n",
      "60179        6          0       1301193\n",
      "60180       35          0       1301211\n",
      "60181       13          0       1301233\n",
      "60182        4          0       1301268\n",
      "60183       37          0       1301303\n",
      "60184       29          0       1301315\n",
      "60185       36          0       1301327\n",
      "60186       42          0       1301343\n",
      "60187       10          0       1301367\n",
      "60188       29          0       1301401\n",
      "60189       38          0       1301417\n",
      "60190       39          0       1301428\n",
      "60191       26          0       1301456\n",
      "60192       36          0       1301475\n",
      "60193       38          0       1301493\n",
      "\n",
      "[60194 rows x 3 columns]\n",
      "   trial_start  trial_end  time_samples  stimulus_end                 stimulus\n",
      "0       168211    1169904        169604       1170620  rmp5ms_G122-29.wav.sine\n"
     ]
    }
   ],
   "source": [
    "stims = trials['stimulus'].unique()\n",
    "print(len(stims))\n",
    "print(clusters)\n",
    "print(spikes)\n",
    "print(trials)"
   ]
  },
  {
   "cell_type": "code",
   "execution_count": 10,
   "metadata": {},
   "outputs": [
    {
     "data": {
      "text/plain": [
       "1"
      ]
     },
     "execution_count": 10,
     "metadata": {},
     "output_type": "execute_result"
    }
   ],
   "source": [
    "len(stims)"
   ]
  },
  {
   "cell_type": "code",
   "execution_count": 6,
   "metadata": {},
   "outputs": [
    {
     "name": "stdout",
     "output_type": "stream",
     "text": [
      "Empty DataFrame\n",
      "Columns: [cluster, quality]\n",
      "Index: []\n",
      "       cluster  recording  time_samples\n",
      "70          43          0          1486\n",
      "125         43          0          2760\n",
      "164         43          0          3462\n",
      "212         43          0          4488\n",
      "275         43          0          5856\n",
      "324         43          0          6852\n",
      "331         43          0          6997\n",
      "592         43          0         12421\n",
      "623         43          0         13035\n",
      "661         43          0         13884\n",
      "668         43          0         14058\n",
      "706         43          0         14976\n",
      "813         43          0         17372\n",
      "861         43          0         18436\n",
      "871         43          0         18643\n",
      "1000        43          0         21602\n",
      "1040        43          0         22466\n",
      "1244        43          0         26895\n",
      "1267        43          0         27416\n",
      "1282        43          0         27718\n",
      "1287        43          0         27807\n",
      "1363        43          0         29532\n",
      "1374        43          0         29828\n",
      "1383        43          0         30010\n",
      "1454        43          0         31467\n",
      "1493        43          0         32314\n",
      "1561        43          0         33735\n",
      "1655        43          0         35757\n",
      "1780        43          0         38486\n",
      "1795        43          0         38746\n",
      "...        ...        ...           ...\n",
      "58536       43          0       1265652\n",
      "58798       43          0       1271241\n",
      "58843       43          0       1272266\n",
      "58910       43          0       1273570\n",
      "58988       43          0       1275424\n",
      "59020       43          0       1276167\n",
      "59049       43          0       1276785\n",
      "59074       43          0       1277275\n",
      "59090       43          0       1277603\n",
      "59107       43          0       1277915\n",
      "59254       43          0       1281132\n",
      "59310       43          0       1282272\n",
      "59313       43          0       1282363\n",
      "59336       43          0       1282856\n",
      "59543       43          0       1287355\n",
      "59553       43          0       1287569\n",
      "59596       43          0       1288585\n",
      "59666       43          0       1290049\n",
      "59682       43          0       1290325\n",
      "59693       43          0       1290580\n",
      "59719       43          0       1291186\n",
      "59730       43          0       1291381\n",
      "59745       43          0       1291706\n",
      "59779       43          0       1292397\n",
      "59810       43          0       1293046\n",
      "59822       43          0       1293296\n",
      "59931       43          0       1295763\n",
      "60007       43          0       1297490\n",
      "60040       43          0       1298249\n",
      "60053       43          0       1298523\n",
      "\n",
      "[1134 rows x 3 columns]\n"
     ]
    }
   ],
   "source": [
    "goodclus = clusters[clusters['quality']=='Good']\n",
    "goodspikes = spikes[spikes['cluster']==43]\n",
    "print goodclus\n",
    "print goodspikes"
   ]
  },
  {
   "cell_type": "code",
   "execution_count": 10,
   "metadata": {},
   "outputs": [
    {
     "data": {
      "image/png": "[encoded data removed]",
      "text/plain": [
       "<Figure size 1584x1296 with 32 Axes>"
      ]
     },
     "metadata": {
      "needs_background": "light"
     },
     "output_type": "display_data"
    }
   ],
   "source": [
    "f, pltaxes = plt.subplots(8, 4, sharey=True, figsize=(22,18))\n",
    "\n",
    "clusterID = 36\n",
    "raster_window = [-2, 2]\n",
    "cluspikes = spikes[spikes['cluster']==clusterID]\n",
    "clurecs = np.array(cluspikes['recording'])\n"
   ]
  },
  {
   "cell_type": "code",
   "execution_count": 13,
   "metadata": {},
   "outputs": [
    {
     "ename": "KeyError",
     "evalue": "'recording'",
     "output_type": "error",
     "traceback": [
      "\u001b[0;31m---------------------------------------------------------------------------\u001b[0m",
      "\u001b[0;31mKeyError\u001b[0m                                  Traceback (most recent call last)",
      "\u001b[0;32m<ipython-input-13-6b5e31b357b0>\u001b[0m in \u001b[0;36m<module>\u001b[0;34m()\u001b[0m\n\u001b[1;32m      1\u001b[0m \u001b[0;32mfor\u001b[0m \u001b[0mind\u001b[0m\u001b[0;34m,\u001b[0m \u001b[0mrec\u001b[0m \u001b[0;32min\u001b[0m \u001b[0menumerate\u001b[0m\u001b[0;34m(\u001b[0m\u001b[0mclurecs\u001b[0m\u001b[0;34m)\u001b[0m\u001b[0;34m:\u001b[0m\u001b[0;34m\u001b[0m\u001b[0m\n\u001b[1;32m      2\u001b[0m     \u001b[0max\u001b[0m \u001b[0;34m=\u001b[0m \u001b[0mpltaxes\u001b[0m\u001b[0;34m.\u001b[0m\u001b[0mflatten\u001b[0m\u001b[0;34m(\u001b[0m\u001b[0;34m)\u001b[0m\u001b[0;34m[\u001b[0m\u001b[0mind\u001b[0m\u001b[0;34m]\u001b[0m\u001b[0;34m\u001b[0m\u001b[0m\n\u001b[0;32m----> 3\u001b[0;31m     \u001b[0mstim\u001b[0m \u001b[0;34m=\u001b[0m \u001b[0mtrials\u001b[0m\u001b[0;34m[\u001b[0m\u001b[0mtrials\u001b[0m\u001b[0;34m[\u001b[0m\u001b[0;34m'recording'\u001b[0m\u001b[0;34m]\u001b[0m\u001b[0;34m==\u001b[0m\u001b[0mclurecs\u001b[0m\u001b[0;34m]\u001b[0m\u001b[0;34m[\u001b[0m\u001b[0;34m'stimulus'\u001b[0m\u001b[0;34m]\u001b[0m\u001b[0;34m[\u001b[0m\u001b[0;36m0\u001b[0m\u001b[0;34m]\u001b[0m\u001b[0;34m\u001b[0m\u001b[0m\n\u001b[0m\u001b[1;32m      4\u001b[0m     rasters.plot_raster_cell_stim(spikes, trials, clusterID, stim,\n\u001b[1;32m      5\u001b[0m                                   raster_window, rec, fs, ax=ax)\n",
      "\u001b[0;32m/usr/local/anaconda/envs/pymne_mt/lib/python2.7/site-packages/pandas/core/frame.pyc\u001b[0m in \u001b[0;36m__getitem__\u001b[0;34m(self, key)\u001b[0m\n\u001b[1;32m   2925\u001b[0m             \u001b[0;32mif\u001b[0m \u001b[0mself\u001b[0m\u001b[0;34m.\u001b[0m\u001b[0mcolumns\u001b[0m\u001b[0;34m.\u001b[0m\u001b[0mnlevels\u001b[0m \u001b[0;34m>\u001b[0m \u001b[0;36m1\u001b[0m\u001b[0;34m:\u001b[0m\u001b[0;34m\u001b[0m\u001b[0m\n\u001b[1;32m   2926\u001b[0m                 \u001b[0;32mreturn\u001b[0m \u001b[0mself\u001b[0m\u001b[0;34m.\u001b[0m\u001b[0m_getitem_multilevel\u001b[0m\u001b[0;34m(\u001b[0m\u001b[0mkey\u001b[0m\u001b[0;34m)\u001b[0m\u001b[0;34m\u001b[0m\u001b[0m\n\u001b[0;32m-> 2927\u001b[0;31m             \u001b[0mindexer\u001b[0m \u001b[0;34m=\u001b[0m \u001b[0mself\u001b[0m\u001b[0;34m.\u001b[0m\u001b[0mcolumns\u001b[0m\u001b[0;34m.\u001b[0m\u001b[0mget_loc\u001b[0m\u001b[0;34m(\u001b[0m\u001b[0mkey\u001b[0m\u001b[0;34m)\u001b[0m\u001b[0;34m\u001b[0m\u001b[0m\n\u001b[0m\u001b[1;32m   2928\u001b[0m             \u001b[0;32mif\u001b[0m \u001b[0mis_integer\u001b[0m\u001b[0;34m(\u001b[0m\u001b[0mindexer\u001b[0m\u001b[0;34m)\u001b[0m\u001b[0;34m:\u001b[0m\u001b[0;34m\u001b[0m\u001b[0m\n\u001b[1;32m   2929\u001b[0m                 \u001b[0mindexer\u001b[0m \u001b[0;34m=\u001b[0m \u001b[0;34m[\u001b[0m\u001b[0mindexer\u001b[0m\u001b[0;34m]\u001b[0m\u001b[0;34m\u001b[0m\u001b[0m\n",
      "\u001b[0;32m/usr/local/anaconda/envs/pymne_mt/lib/python2.7/site-packages/pandas/core/indexes/base.pyc\u001b[0m in \u001b[0;36mget_loc\u001b[0;34m(self, key, method, tolerance)\u001b[0m\n\u001b[1;32m   2657\u001b[0m                 \u001b[0;32mreturn\u001b[0m \u001b[0mself\u001b[0m\u001b[0;34m.\u001b[0m\u001b[0m_engine\u001b[0m\u001b[0;34m.\u001b[0m\u001b[0mget_loc\u001b[0m\u001b[0;34m(\u001b[0m\u001b[0mkey\u001b[0m\u001b[0;34m)\u001b[0m\u001b[0;34m\u001b[0m\u001b[0m\n\u001b[1;32m   2658\u001b[0m             \u001b[0;32mexcept\u001b[0m \u001b[0mKeyError\u001b[0m\u001b[0;34m:\u001b[0m\u001b[0;34m\u001b[0m\u001b[0m\n\u001b[0;32m-> 2659\u001b[0;31m                 \u001b[0;32mreturn\u001b[0m \u001b[0mself\u001b[0m\u001b[0;34m.\u001b[0m\u001b[0m_engine\u001b[0m\u001b[0;34m.\u001b[0m\u001b[0mget_loc\u001b[0m\u001b[0;34m(\u001b[0m\u001b[0mself\u001b[0m\u001b[0;34m.\u001b[0m\u001b[0m_maybe_cast_indexer\u001b[0m\u001b[0;34m(\u001b[0m\u001b[0mkey\u001b[0m\u001b[0;34m)\u001b[0m\u001b[0;34m)\u001b[0m\u001b[0;34m\u001b[0m\u001b[0m\n\u001b[0m\u001b[1;32m   2660\u001b[0m         \u001b[0mindexer\u001b[0m \u001b[0;34m=\u001b[0m \u001b[0mself\u001b[0m\u001b[0;34m.\u001b[0m\u001b[0mget_indexer\u001b[0m\u001b[0;34m(\u001b[0m\u001b[0;34m[\u001b[0m\u001b[0mkey\u001b[0m\u001b[0;34m]\u001b[0m\u001b[0;34m,\u001b[0m \u001b[0mmethod\u001b[0m\u001b[0;34m=\u001b[0m\u001b[0mmethod\u001b[0m\u001b[0;34m,\u001b[0m \u001b[0mtolerance\u001b[0m\u001b[0;34m=\u001b[0m\u001b[0mtolerance\u001b[0m\u001b[0;34m)\u001b[0m\u001b[0;34m\u001b[0m\u001b[0m\n\u001b[1;32m   2661\u001b[0m         \u001b[0;32mif\u001b[0m \u001b[0mindexer\u001b[0m\u001b[0;34m.\u001b[0m\u001b[0mndim\u001b[0m \u001b[0;34m>\u001b[0m \u001b[0;36m1\u001b[0m \u001b[0;32mor\u001b[0m \u001b[0mindexer\u001b[0m\u001b[0;34m.\u001b[0m\u001b[0msize\u001b[0m \u001b[0;34m>\u001b[0m \u001b[0;36m1\u001b[0m\u001b[0;34m:\u001b[0m\u001b[0;34m\u001b[0m\u001b[0m\n",
      "\u001b[0;32mpandas/_libs/index.pyx\u001b[0m in \u001b[0;36mpandas._libs.index.IndexEngine.get_loc\u001b[0;34m()\u001b[0m\n",
      "\u001b[0;32mpandas/_libs/index.pyx\u001b[0m in \u001b[0;36mpandas._libs.index.IndexEngine.get_loc\u001b[0;34m()\u001b[0m\n",
      "\u001b[0;32mpandas/_libs/hashtable_class_helper.pxi\u001b[0m in \u001b[0;36mpandas._libs.hashtable.PyObjectHashTable.get_item\u001b[0;34m()\u001b[0m\n",
      "\u001b[0;32mpandas/_libs/hashtable_class_helper.pxi\u001b[0m in \u001b[0;36mpandas._libs.hashtable.PyObjectHashTable.get_item\u001b[0;34m()\u001b[0m\n",
      "\u001b[0;31mKeyError\u001b[0m: 'recording'"
     ]
    }
   ],
   "source": [
    "for ind, rec in enumerate(clurecs):\n",
    "    ax = pltaxes.flatten()[ind]\n",
    "    stim = trials[trials['recording']==clurecs]['stimulus'][0]\n",
    "    rasters.plot_raster_cell_stim(spikes, trials, clusterID, stim,\n",
    "                                  raster_window, rec, fs, ax=ax)\n",
    "    ax.set_title('Cell: {} Stim: {} Rec: {}'.format(clusterID, stim, rec))"
   ]
  },
  {
   "cell_type": "code",
   "execution_count": 12,
   "metadata": {},
   "outputs": [
    {
     "data": {
      "image/png": "[encoded data removed]",
      "text/plain": [
       "<Figure size 1584x1296 with 32 Axes>"
      ]
     },
     "metadata": {
      "needs_background": "light"
     },
     "output_type": "display_data"
    }
   ],
   "source": [
    "f, pltaxes = plt.subplots(8, 4, sharey=True, figsize=(22,18))\n",
    "rec = 1\n",
    "for ind, stim in enumerate(stims):\n",
    "    ax = pltaxes.flatten()[ind]\n",
    "    rasters.plot_raster_cell_stim(spikes, trials, clusterID, stim, \n",
    "                                  raster_window, rec, fs, ax=ax)\n",
    "    ax.set_title('Cell: {} Stim: {}'.format(clusterID, stim))"
   ]
  },
  {
   "cell_type": "code",
   "execution_count": null,
   "metadata": {},
   "outputs": [],
   "source": [
    "rasters."
   ]
  },
  {
   "cell_type": "code",
   "execution_count": 55,
   "metadata": {},
   "outputs": [
    {
     "name": "stdout",
     "output_type": "stream",
     "text": [
      "Populating the interactive namespace from numpy and matplotlib\n"
     ]
    },
    {
     "data": {
      "text/plain": [
       "<module 'ephys.rasters' from '/usr/local/home/mturvey/Code/ephys-analysis/ephys/rasters.py'>"
      ]
     },
     "execution_count": 55,
     "metadata": {},
     "output_type": "execute_result"
    }
   ],
   "source": [
    "import sys, os, tqdm\n",
    "from ephys import rasters, core, events\n",
    "import matplotlib.pyplot as plt\n",
    "import numpy as np\n",
    "%pylab inline\n",
    "from importlib import reload\n",
    "reload(rasters)"
   ]
  },
  {
   "cell_type": "code",
   "execution_count": null,
   "metadata": {},
   "outputs": [
    {
     "name": "stderr",
     "output_type": "stream",
     "text": [
      "  0%|          | 0/43 [00:00<?, ?it/s]\n",
      "  0%|          | 0/1 [00:00<?, ?it/s]\u001b[A\n",
      "  2%|▏         | 1/43 [00:00<00:35,  1.18it/s][A\n",
      "  0%|          | 0/1 [00:00<?, ?it/s]\u001b[A\n",
      "  5%|▍         | 2/43 [00:03<00:54,  1.32s/it][A\n",
      "  0%|          | 0/1 [00:00<?, ?it/s]\u001b[A\n",
      "  7%|▋         | 3/43 [00:06<01:09,  1.74s/it][A\n",
      "  0%|          | 0/1 [00:00<?, ?it/s]\u001b[A\n",
      "  9%|▉         | 4/43 [00:07<01:05,  1.69s/it][A\n",
      "  0%|          | 0/1 [00:00<?, ?it/s]\u001b[A\n",
      " 12%|█▏        | 5/43 [00:09<01:08,  1.80s/it][A\n",
      "  0%|          | 0/1 [00:00<?, ?it/s]\u001b[A\n",
      " 14%|█▍        | 6/43 [00:12<01:19,  2.16s/it][A\n",
      "  0%|          | 0/1 [00:00<?, ?it/s]\u001b[A\n",
      " 16%|█▋        | 7/43 [00:15<01:21,  2.27s/it][A\n",
      "  0%|          | 0/1 [00:00<?, ?it/s]\u001b[A\n",
      " 19%|█▊        | 8/43 [00:18<01:35,  2.72s/it][A\n",
      "  0%|          | 0/1 [00:00<?, ?it/s]\u001b[A\n",
      " 21%|██        | 9/43 [00:21<01:35,  2.81s/it][A\n",
      "  0%|          | 0/1 [00:00<?, ?it/s]\u001b[A\n",
      " 23%|██▎       | 10/43 [00:24<01:31,  2.77s/it]A\n",
      "  0%|          | 0/1 [00:00<?, ?it/s]\u001b[A\n",
      " 26%|██▌       | 11/43 [00:25<01:08,  2.15s/it]A\n",
      "  0%|          | 0/1 [00:00<?, ?it/s]\u001b[A\n",
      " 28%|██▊       | 12/43 [00:25<00:51,  1.66s/it]A\n",
      "  0%|          | 0/1 [00:00<?, ?it/s]\u001b[A\n",
      " 30%|███       | 13/43 [00:28<01:02,  2.08s/it]A\n",
      "  0%|          | 0/1 [00:00<?, ?it/s]\u001b[A\n",
      " 33%|███▎      | 14/43 [00:31<01:02,  2.17s/it]A\n",
      "  0%|          | 0/1 [00:00<?, ?it/s]\u001b[A\n",
      " 35%|███▍      | 15/43 [00:33<01:02,  2.24s/it]A\n",
      "  0%|          | 0/1 [00:00<?, ?it/s]\u001b[A\n",
      " 37%|███▋      | 16/43 [00:34<00:50,  1.88s/it]A\n",
      "  0%|          | 0/1 [00:00<?, ?it/s]\u001b[A\n",
      " 40%|███▉      | 17/43 [00:37<00:56,  2.18s/it]A\n",
      "  0%|          | 0/1 [00:00<?, ?it/s]\u001b[A\n",
      " 42%|████▏     | 18/43 [00:38<00:42,  1.71s/it]A\n",
      "  0%|          | 0/1 [00:00<?, ?it/s]\u001b[A\n",
      " 44%|████▍     | 19/43 [00:39<00:35,  1.48s/it]A\n",
      "  0%|          | 0/1 [00:00<?, ?it/s]\u001b[A\n",
      " 47%|████▋     | 20/43 [00:40<00:30,  1.31s/it]A\n",
      "  0%|          | 0/1 [00:00<?, ?it/s]\u001b[A\n",
      " 49%|████▉     | 21/43 [00:41<00:26,  1.22s/it]A\n",
      "  0%|          | 0/1 [00:00<?, ?it/s]\u001b[A"
     ]
    }
   ],
   "source": [
    "rasters.plot_all_rasters(block_path)"
   ]
  },
  {
   "cell_type": "code",
   "execution_count": 53,
   "metadata": {},
   "outputs": [
    {
     "name": "stderr",
     "output_type": "stream",
     "text": [
      "  0%|          | 0/43 [00:00<?, ?it/s]\n",
      "  0%|          | 0/1 [00:00<?, ?it/s]\u001b[A\n",
      "  2%|▏         | 1/43 [00:01<01:09,  1.65s/it][A\n",
      "  0%|          | 0/1 [00:00<?, ?it/s]\u001b[A\n",
      "  5%|▍         | 2/43 [00:05<01:33,  2.28s/it][A\n",
      "  0%|          | 0/1 [00:00<?, ?it/s]\u001b[A\n",
      "  7%|▋         | 3/43 [00:08<01:36,  2.42s/it][A\n",
      "  0%|          | 0/1 [00:00<?, ?it/s]\u001b[A\n",
      "  9%|▉         | 4/43 [00:11<01:39,  2.55s/it][A\n",
      "  0%|          | 0/1 [00:00<?, ?it/s]\u001b[A\n",
      " 12%|█▏        | 5/43 [00:11<01:15,  1.98s/it][A\n",
      "  0%|          | 0/1 [00:00<?, ?it/s]\u001b[A\n",
      " 14%|█▍        | 6/43 [00:14<01:21,  2.20s/it][A\n",
      "  0%|          | 0/1 [00:00<?, ?it/s]\u001b[A\n",
      " 16%|█▋        | 7/43 [00:17<01:28,  2.47s/it][A\n",
      "  0%|          | 0/1 [00:00<?, ?it/s]\u001b[A\n",
      " 19%|█▊        | 8/43 [00:21<01:45,  3.02s/it][A\n",
      "  0%|          | 0/1 [00:00<?, ?it/s]\u001b[A\n",
      " 21%|██        | 9/43 [00:24<01:35,  2.80s/it][A\n",
      "  0%|          | 0/1 [00:00<?, ?it/s]\u001b[A\n",
      " 23%|██▎       | 10/43 [00:25<01:23,  2.54s/it]A\n",
      "  0%|          | 0/1 [00:00<?, ?it/s]\u001b[A\n",
      " 26%|██▌       | 11/43 [00:26<01:05,  2.06s/it]A\n",
      "  0%|          | 0/1 [00:00<?, ?it/s]\u001b[A\n",
      " 28%|██▊       | 12/43 [00:27<00:50,  1.64s/it]A\n",
      "  0%|          | 0/1 [00:00<?, ?it/s]\u001b[A\n",
      " 30%|███       | 13/43 [00:32<01:14,  2.49s/it]A\n",
      "  0%|          | 0/1 [00:00<?, ?it/s]\u001b[A\n",
      " 33%|███▎      | 14/43 [00:35<01:16,  2.64s/it]A\n",
      "  0%|          | 0/1 [00:00<?, ?it/s]\u001b[A\n",
      " 35%|███▍      | 15/43 [00:37<01:14,  2.66s/it]A\n",
      "  0%|          | 0/1 [00:00<?, ?it/s]\u001b[A\n",
      " 37%|███▋      | 16/43 [00:38<00:56,  2.09s/it]A\n",
      "  0%|          | 0/1 [00:00<?, ?it/s]\u001b[A\n",
      " 40%|███▉      | 17/43 [00:40<00:54,  2.09s/it]A\n",
      "  0%|          | 0/1 [00:00<?, ?it/s]\u001b[A\n",
      " 42%|████▏     | 18/43 [00:41<00:40,  1.64s/it]A\n",
      "  0%|          | 0/1 [00:00<?, ?it/s]\u001b[A\n",
      " 44%|████▍     | 19/43 [00:41<00:33,  1.38s/it]A\n",
      "  0%|          | 0/1 [00:00<?, ?it/s]\u001b[A\n",
      " 47%|████▋     | 20/43 [00:42<00:26,  1.15s/it]A\n",
      "  0%|          | 0/1 [00:00<?, ?it/s]\u001b[A\n",
      " 49%|████▉     | 21/43 [00:44<00:27,  1.25s/it]A\n",
      "  0%|          | 0/1 [00:00<?, ?it/s]\u001b[A\n",
      " 51%|█████     | 22/43 [00:46<00:31,  1.50s/it]A\n",
      "  0%|          | 0/1 [00:00<?, ?it/s]\u001b[A\n",
      " 53%|█████▎    | 23/43 [00:47<00:26,  1.34s/it]A\n",
      "  0%|          | 0/1 [00:00<?, ?it/s]\u001b[A\n",
      " 56%|█████▌    | 24/43 [00:49<00:31,  1.64s/it]A\n",
      "  0%|          | 0/1 [00:00<?, ?it/s]\u001b[A\n",
      " 58%|█████▊    | 25/43 [00:50<00:25,  1.41s/it]A\n",
      "  0%|          | 0/1 [00:00<?, ?it/s]\u001b[A\n",
      " 60%|██████    | 26/43 [00:51<00:24,  1.42s/it]A\n",
      "  0%|          | 0/1 [00:00<?, ?it/s]\u001b[A\n",
      " 63%|██████▎   | 27/43 [00:52<00:18,  1.15s/it]A\n",
      "  0%|          | 0/1 [00:00<?, ?it/s]\u001b[A\n",
      " 65%|██████▌   | 28/43 [00:54<00:23,  1.55s/it]A\n",
      "  0%|          | 0/1 [00:00<?, ?it/s]\u001b[A\n",
      " 67%|██████▋   | 29/43 [00:59<00:33,  2.39s/it]A\n",
      "  0%|          | 0/1 [00:00<?, ?it/s]\u001b[A\n",
      " 70%|██████▉   | 30/43 [00:59<00:24,  1.90s/it]A\n",
      "  0%|          | 0/1 [00:00<?, ?it/s]\u001b[A\n",
      " 72%|███████▏  | 31/43 [01:02<00:24,  2.03s/it]A\n",
      "  0%|          | 0/1 [00:00<?, ?it/s]\u001b[A\n",
      " 74%|███████▍  | 32/43 [01:04<00:22,  2.02s/it]A\n",
      "  0%|          | 0/1 [00:00<?, ?it/s]\u001b[A\n",
      " 77%|███████▋  | 33/43 [01:05<00:16,  1.68s/it]A\n",
      "  0%|          | 0/1 [00:00<?, ?it/s]\u001b[A\n",
      " 79%|███████▉  | 34/43 [01:05<00:12,  1.39s/it]A\n",
      "  0%|          | 0/1 [00:00<?, ?it/s]\u001b[A\n",
      " 81%|████████▏ | 35/43 [01:07<00:12,  1.58s/it]A\n",
      "  0%|          | 0/1 [00:00<?, ?it/s]\u001b[A\n",
      " 84%|████████▎ | 36/43 [01:10<00:14,  2.06s/it]A\n",
      "  0%|          | 0/1 [00:00<?, ?it/s]\u001b[A\n",
      " 86%|████████▌ | 37/43 [01:15<00:17,  2.84s/it]A\n",
      "  0%|          | 0/1 [00:00<?, ?it/s]\u001b[A\n",
      " 88%|████████▊ | 38/43 [01:19<00:15,  3.16s/it]A\n",
      "  0%|          | 0/1 [00:00<?, ?it/s]\u001b[A\n",
      " 91%|█████████ | 39/43 [01:23<00:13,  3.43s/it]A\n",
      "  0%|          | 0/1 [00:00<?, ?it/s]\u001b[A\n",
      " 93%|█████████▎| 40/43 [01:26<00:09,  3.25s/it]A\n",
      "  0%|          | 0/1 [00:00<?, ?it/s]\u001b[A\n",
      " 95%|█████████▌| 41/43 [01:28<00:05,  2.86s/it]A\n",
      "  0%|          | 0/1 [00:00<?, ?it/s]\u001b[A\n",
      " 98%|█████████▊| 42/43 [01:29<00:02,  2.36s/it]A\n",
      "  0%|          | 0/1 [00:00<?, ?it/s]\u001b[A\n",
      "100%|██████████| 43/43 [01:30<00:00,  2.04s/it]A\n"
     ]
    }
   ],
   "source": [
    "\n",
    "def do_raster(raster_data, times, ticks, ntrials, ax=None, spike_linewidth=1.5,\n",
    "              spike_color='k', tick_linewidth=1.5, tick_color='r'):\n",
    "    '''\n",
    "    Generalized raster plotting function\n",
    "    Parameters\n",
    "    ------\n",
    "    raster_data : list of lists of floats\n",
    "        List of lists.  Each sublist corresponds to one row of events\n",
    "        Each element of a sublist is an event times\n",
    "    times : list of floats\n",
    "        The beginning and end times to plot\n",
    "    ticks : list of floats\n",
    "        Will add a vertical tick across the whole plot for each time in list\n",
    "    ax : Matplotlib axes handle, optional\n",
    "        Axes on which to produce raster. Default gca.\n",
    "    spike_linewidth : float, optional\n",
    "        width in points of ticks for spikes\n",
    "    spike_color : str\n",
    "        color of ticks for spikes\n",
    "    tick_linewidth : float\n",
    "        width in points of ticks for events\n",
    "    tick_color  : str\n",
    "        color of ticks for events\n",
    "    Returns\n",
    "    ------\n",
    "    raster_plot :\n",
    "        Handle to the raster plot\n",
    "    '''\n",
    "    raster_data = np.array(raster_data)\n",
    "    if ax is None:\n",
    "        ax = plt.gca()\n",
    "    ax.set_xlim(times)\n",
    "    ax.set_ylim((-0.5, ntrials-0.5))\n",
    "    ax.set_yticks(range(0, ntrials))\n",
    "    ax.eventplot(raster_data, linewidths=spike_linewidth, colors=spike_color)\n",
    "    for pltticks in ticks:\n",
    "        ax.axvline(pltticks, color=tick_color)\n",
    "    return ax\n",
    "\n",
    "def get_spiketrain(rec, samps, clu, spikes, window, fs):\n",
    "    '''\n",
    "    Returns a numpy array of spike times for a single cluster \n",
    "        within a window locked to a sampling time.\n",
    "    \n",
    "    Parameters\n",
    "    ------\n",
    "    rec : int\n",
    "        the recording to look in\n",
    "    samps : int\n",
    "        the time to lock the spiketrain to in samples\n",
    "    clu : int\n",
    "        the cluster identifier to get spikes from\n",
    "    spikes : pandas dataframe\n",
    "        the pandas dataframe containing spikes (see core)\n",
    "    window : tuple or list of floats\n",
    "        the window around the event in seconds to sample spikes\n",
    "    fs : float\n",
    "        sampling rate of the recording\n",
    "    \n",
    "    Returns\n",
    "    ------\n",
    "    spike_train : numpy array of spike times in seconds\n",
    "    '''\n",
    "    bds = [w * fs + samps for w in window]\n",
    "\n",
    "    window_mask = (\n",
    "            (spikes['time_samples'] > bds[0])\n",
    "            & (spikes['time_samples'] <= bds[1])\n",
    "    )\n",
    "\n",
    "    perievent_spikes = spikes[window_mask]\n",
    "\n",
    "    mask = (\n",
    "            (perievent_spikes['recording'] == rec)\n",
    "            & (perievent_spikes['cluster'] == clu)\n",
    "    )\n",
    "    return (perievent_spikes['time_samples'][mask].values.astype(np.float_) - samps) / fs\n",
    "\n",
    "def plot_raster_cell_stim(spikes, trials, clusterID,\n",
    "                          stim, period, rec, fs, ax=None, stim_ref='stim', **kwargs):\n",
    "    '''\n",
    "    Plots a spike raster for a single cell and stimulus\n",
    "    Parameters\n",
    "    ------\n",
    "    spikes : pandas dataframe\n",
    "        spike dataframe from core\n",
    "    trials : pandas dataframe\n",
    "        trials dataframe from events\n",
    "    clusterID : int\n",
    "        ID number of the cluster you wish to make the raster for\n",
    "    stim : str\n",
    "        Name of the stimulus you wish to plot cluster's activity for\n",
    "    period : list of floats\n",
    "        Time window for the raster:\n",
    "        [Seconds_pre_stimulus_onset, Seconds_post_stimulus_end]\n",
    "    rec : int\n",
    "        Recording ID\n",
    "    fs : float\n",
    "        Sampling rate\n",
    "    plot_params : dict\n",
    "        Drawing parameters:\n",
    "        'spike_linewidth' - linewidth of ticks for spikes\n",
    "        'tick_linewidth' - linewidth of ticks for event markers\n",
    "        'spike_color' - color of spike ticks\n",
    "        'tick_color' - color of event ticks\n",
    "    ax : Matplotlib axes handle, optional\n",
    "        Axes on which to produce the raster.  Default is to use gca\n",
    "    kwargs :\n",
    "        keyword arguments are passed to the do_raster method\n",
    "    '''\n",
    "    stim_trials = trials[trials['stimulus'] == stim]\n",
    "    ntrials = len(stim_trials)\n",
    "    stim_starts = stim_trials['time_samples'].values\n",
    "    stim_ends = stim_trials['stimulus_end'].values\n",
    "    stim_end_seconds = np.unique((stim_ends - stim_starts) / fs)[0]\n",
    "    if stim_ref == 'stim':\n",
    "        window = [period[0], stim_end_seconds + period[1]]\n",
    "    elif stim_ref == 'abs':\n",
    "        window = [period[0], period[1]]\n",
    "    raster_data = []\n",
    "    for trial, start in enumerate(stim_starts):\n",
    "        sptrain = get_spiketrain(rec, start, clusterID, spikes, window, fs)\n",
    "        raster_data.append(sptrain)\n",
    "    ax = do_raster(raster_data, window, [0, stim_end_seconds], ntrials, ax, **kwargs)\n",
    "    return ax\n",
    "\n",
    "def plot_all_rasters_MT(block_path):\n",
    "    ''' Plots all the rasters from all units for all stimuli \n",
    "        Places them in a blockpath/rasters folder\n",
    "    '''\n",
    "    rasters_folder = os.path.join(block_path, 'rasters/')\n",
    "    spikes = core.load_spikes(block_path)\n",
    "    trials = events.oe_load_trials(block_path)\n",
    "    clusters = core.load_clusters(block_path)\n",
    "    fs = core.load_fs(block_path)\n",
    "    stims = np.unique(trials['stimulus'].values)\n",
    "\n",
    "    os.makedirs(rasters_folder, exist_ok=True)\n",
    "    for cluster in tqdm.tqdm(clusters[\"cluster\"]):\n",
    "        os.makedirs(os.path.join(rasters_folder, '{}/'.format(cluster)), exist_ok=True)\n",
    "        for stim in tqdm.tqdm(stims):\n",
    "            fig = plt.figure()\n",
    "            ax = plot_raster_cell_stim(spikes, trials, cluster, stim, [-2, 2], 0, fs)\n",
    "            ax.set_xlabel('Time (s)')\n",
    "            ax.set_ylabel('Trial Number')\n",
    "            ax.set_title('Unit: {}  Stimulus: {}'.format(cluster, stim))\n",
    "            plt.savefig(os.path.join(rasters_folder, '{}/unit-{}_stim-{}.pdf'.format(cluster, cluster, stim)))\n",
    "            plt.close(fig)\n",
    "\n",
    "plot_all_rasters_MT(block_path)"
   ]
  },
  {
   "cell_type": "code",
   "execution_count": 52,
   "metadata": {},
   "outputs": [
    {
     "name": "stdout",
     "output_type": "stream",
     "text": [
      "/mnt/cube/nyoni-raw/test_data/201901300906-B970-block-9-AP-1250-ML-750-Z-1750/rasters/\n",
      "/mnt/cube/nyoni-raw/test_data/201901300906-B970-block-9-AP-1250-ML-750-Z-1750/rasters/1/unit-1_stim-rmp5ms_G122-29.wav.sine.pdf\n",
      "/mnt/cube/nyoni-raw/test_data/201901300906-B970-block-9-AP-1250-ML-750-Z-1750/rasters/2/unit-2_stim-rmp5ms_G122-29.wav.sine.pdf\n",
      "/mnt/cube/nyoni-raw/test_data/201901300906-B970-block-9-AP-1250-ML-750-Z-1750/rasters/3/unit-3_stim-rmp5ms_G122-29.wav.sine.pdf\n",
      "/mnt/cube/nyoni-raw/test_data/201901300906-B970-block-9-AP-1250-ML-750-Z-1750/rasters/4/unit-4_stim-rmp5ms_G122-29.wav.sine.pdf\n",
      "/mnt/cube/nyoni-raw/test_data/201901300906-B970-block-9-AP-1250-ML-750-Z-1750/rasters/5/unit-5_stim-rmp5ms_G122-29.wav.sine.pdf\n",
      "/mnt/cube/nyoni-raw/test_data/201901300906-B970-block-9-AP-1250-ML-750-Z-1750/rasters/6/unit-6_stim-rmp5ms_G122-29.wav.sine.pdf\n",
      "/mnt/cube/nyoni-raw/test_data/201901300906-B970-block-9-AP-1250-ML-750-Z-1750/rasters/7/unit-7_stim-rmp5ms_G122-29.wav.sine.pdf\n",
      "/mnt/cube/nyoni-raw/test_data/201901300906-B970-block-9-AP-1250-ML-750-Z-1750/rasters/8/unit-8_stim-rmp5ms_G122-29.wav.sine.pdf\n",
      "/mnt/cube/nyoni-raw/test_data/201901300906-B970-block-9-AP-1250-ML-750-Z-1750/rasters/9/unit-9_stim-rmp5ms_G122-29.wav.sine.pdf\n",
      "/mnt/cube/nyoni-raw/test_data/201901300906-B970-block-9-AP-1250-ML-750-Z-1750/rasters/10/unit-10_stim-rmp5ms_G122-29.wav.sine.pdf\n",
      "/mnt/cube/nyoni-raw/test_data/201901300906-B970-block-9-AP-1250-ML-750-Z-1750/rasters/11/unit-11_stim-rmp5ms_G122-29.wav.sine.pdf\n",
      "/mnt/cube/nyoni-raw/test_data/201901300906-B970-block-9-AP-1250-ML-750-Z-1750/rasters/12/unit-12_stim-rmp5ms_G122-29.wav.sine.pdf\n",
      "/mnt/cube/nyoni-raw/test_data/201901300906-B970-block-9-AP-1250-ML-750-Z-1750/rasters/13/unit-13_stim-rmp5ms_G122-29.wav.sine.pdf\n",
      "/mnt/cube/nyoni-raw/test_data/201901300906-B970-block-9-AP-1250-ML-750-Z-1750/rasters/14/unit-14_stim-rmp5ms_G122-29.wav.sine.pdf\n",
      "/mnt/cube/nyoni-raw/test_data/201901300906-B970-block-9-AP-1250-ML-750-Z-1750/rasters/15/unit-15_stim-rmp5ms_G122-29.wav.sine.pdf\n",
      "/mnt/cube/nyoni-raw/test_data/201901300906-B970-block-9-AP-1250-ML-750-Z-1750/rasters/16/unit-16_stim-rmp5ms_G122-29.wav.sine.pdf\n",
      "/mnt/cube/nyoni-raw/test_data/201901300906-B970-block-9-AP-1250-ML-750-Z-1750/rasters/17/unit-17_stim-rmp5ms_G122-29.wav.sine.pdf\n",
      "/mnt/cube/nyoni-raw/test_data/201901300906-B970-block-9-AP-1250-ML-750-Z-1750/rasters/18/unit-18_stim-rmp5ms_G122-29.wav.sine.pdf\n",
      "/mnt/cube/nyoni-raw/test_data/201901300906-B970-block-9-AP-1250-ML-750-Z-1750/rasters/19/unit-19_stim-rmp5ms_G122-29.wav.sine.pdf\n",
      "/mnt/cube/nyoni-raw/test_data/201901300906-B970-block-9-AP-1250-ML-750-Z-1750/rasters/20/unit-20_stim-rmp5ms_G122-29.wav.sine.pdf\n",
      "/mnt/cube/nyoni-raw/test_data/201901300906-B970-block-9-AP-1250-ML-750-Z-1750/rasters/21/unit-21_stim-rmp5ms_G122-29.wav.sine.pdf\n",
      "/mnt/cube/nyoni-raw/test_data/201901300906-B970-block-9-AP-1250-ML-750-Z-1750/rasters/22/unit-22_stim-rmp5ms_G122-29.wav.sine.pdf\n",
      "/mnt/cube/nyoni-raw/test_data/201901300906-B970-block-9-AP-1250-ML-750-Z-1750/rasters/23/unit-23_stim-rmp5ms_G122-29.wav.sine.pdf\n",
      "/mnt/cube/nyoni-raw/test_data/201901300906-B970-block-9-AP-1250-ML-750-Z-1750/rasters/24/unit-24_stim-rmp5ms_G122-29.wav.sine.pdf\n",
      "/mnt/cube/nyoni-raw/test_data/201901300906-B970-block-9-AP-1250-ML-750-Z-1750/rasters/25/unit-25_stim-rmp5ms_G122-29.wav.sine.pdf\n",
      "/mnt/cube/nyoni-raw/test_data/201901300906-B970-block-9-AP-1250-ML-750-Z-1750/rasters/26/unit-26_stim-rmp5ms_G122-29.wav.sine.pdf\n",
      "/mnt/cube/nyoni-raw/test_data/201901300906-B970-block-9-AP-1250-ML-750-Z-1750/rasters/27/unit-27_stim-rmp5ms_G122-29.wav.sine.pdf\n",
      "/mnt/cube/nyoni-raw/test_data/201901300906-B970-block-9-AP-1250-ML-750-Z-1750/rasters/28/unit-28_stim-rmp5ms_G122-29.wav.sine.pdf\n",
      "/mnt/cube/nyoni-raw/test_data/201901300906-B970-block-9-AP-1250-ML-750-Z-1750/rasters/29/unit-29_stim-rmp5ms_G122-29.wav.sine.pdf\n",
      "/mnt/cube/nyoni-raw/test_data/201901300906-B970-block-9-AP-1250-ML-750-Z-1750/rasters/30/unit-30_stim-rmp5ms_G122-29.wav.sine.pdf\n",
      "/mnt/cube/nyoni-raw/test_data/201901300906-B970-block-9-AP-1250-ML-750-Z-1750/rasters/31/unit-31_stim-rmp5ms_G122-29.wav.sine.pdf\n",
      "/mnt/cube/nyoni-raw/test_data/201901300906-B970-block-9-AP-1250-ML-750-Z-1750/rasters/32/unit-32_stim-rmp5ms_G122-29.wav.sine.pdf\n",
      "/mnt/cube/nyoni-raw/test_data/201901300906-B970-block-9-AP-1250-ML-750-Z-1750/rasters/33/unit-33_stim-rmp5ms_G122-29.wav.sine.pdf\n",
      "/mnt/cube/nyoni-raw/test_data/201901300906-B970-block-9-AP-1250-ML-750-Z-1750/rasters/34/unit-34_stim-rmp5ms_G122-29.wav.sine.pdf\n",
      "/mnt/cube/nyoni-raw/test_data/201901300906-B970-block-9-AP-1250-ML-750-Z-1750/rasters/35/unit-35_stim-rmp5ms_G122-29.wav.sine.pdf\n",
      "/mnt/cube/nyoni-raw/test_data/201901300906-B970-block-9-AP-1250-ML-750-Z-1750/rasters/36/unit-36_stim-rmp5ms_G122-29.wav.sine.pdf\n",
      "/mnt/cube/nyoni-raw/test_data/201901300906-B970-block-9-AP-1250-ML-750-Z-1750/rasters/37/unit-37_stim-rmp5ms_G122-29.wav.sine.pdf\n",
      "/mnt/cube/nyoni-raw/test_data/201901300906-B970-block-9-AP-1250-ML-750-Z-1750/rasters/38/unit-38_stim-rmp5ms_G122-29.wav.sine.pdf\n",
      "/mnt/cube/nyoni-raw/test_data/201901300906-B970-block-9-AP-1250-ML-750-Z-1750/rasters/39/unit-39_stim-rmp5ms_G122-29.wav.sine.pdf\n",
      "/mnt/cube/nyoni-raw/test_data/201901300906-B970-block-9-AP-1250-ML-750-Z-1750/rasters/40/unit-40_stim-rmp5ms_G122-29.wav.sine.pdf\n",
      "/mnt/cube/nyoni-raw/test_data/201901300906-B970-block-9-AP-1250-ML-750-Z-1750/rasters/41/unit-41_stim-rmp5ms_G122-29.wav.sine.pdf\n",
      "/mnt/cube/nyoni-raw/test_data/201901300906-B970-block-9-AP-1250-ML-750-Z-1750/rasters/42/unit-42_stim-rmp5ms_G122-29.wav.sine.pdf\n",
      "/mnt/cube/nyoni-raw/test_data/201901300906-B970-block-9-AP-1250-ML-750-Z-1750/rasters/43/unit-43_stim-rmp5ms_G122-29.wav.sine.pdf\n"
     ]
    }
   ],
   "source": [
    "trials = events.oe_load_trials(block_path)\n",
    "stims = np.unique(trials['stimulus'].values)\n",
    "rasters_folder = os.path.join(block_path, 'rasters/')\n",
    "print(rasters_folder)\n",
    "clusters = core.load_clusters(block_path)\n",
    "stims = np.unique(trials['stimulus'].values)\n",
    "\n",
    "for cluster in clusters[\"cluster\"]:\n",
    "    for stim in stims:\n",
    "        print(os.path.join(rasters_folder, '{}/unit-{}_stim-{}.pdf'.format(cluster, cluster, stim)))\n"
   ]
  },
  {
   "cell_type": "code",
   "execution_count": 51,
   "metadata": {},
   "outputs": [
    {
     "name": "stdout",
     "output_type": "stream",
     "text": [
      "/mnt/cube/nyoni-raw/test_data/201901300906-B970-block-9-AP-1250-ML-750-Z-1750/rasters/\n",
      "/1/unit-1_stim-test.wav.pdf\n"
     ]
    }
   ],
   "source": [
    "clust=1\n",
    "ex_stim=\"test.wav\"\n",
    "print(rasters_folder)\n",
    "print(os.path.join(rasters_folder, '/{}/unit-{}_stim-{}.pdf'.format(1, 1, ex_stim)))\n"
   ]
  },
  {
   "cell_type": "code",
   "execution_count": 54,
   "metadata": {},
   "outputs": [
    {
     "data": {
      "text/plain": [
       "array(['rmp5ms_G122-29.wav.sine'], dtype=object)"
      ]
     },
     "execution_count": 54,
     "metadata": {},
     "output_type": "execute_result"
    }
   ],
   "source": [
    "stims"
   ]
  }
 ],
 "metadata": {
  "kernelspec": {
   "display_name": "Python 3",
   "language": "python",
   "name": "python3"
  },
  "language_info": {
   "codemirror_mode": {
    "name": "ipython",
    "version": 3
   },
   "file_extension": ".py",
   "mimetype": "text/x-python",
   "name": "python",
   "nbconvert_exporter": "python",
   "pygments_lexer": "ipython3",
   "version": "3.7.3"
  }
 },
 "nbformat": 4,
 "nbformat_minor": 1
}
