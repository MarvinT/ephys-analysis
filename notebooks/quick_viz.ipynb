{
 "cells": [
  {
   "cell_type": "markdown",
   "metadata": {},
   "source": [
    "# Initial visualizations of your data\n",
    "\n",
    "This notebook is meant to let you quickly look at your post-manually sorted data"
   ]
  },
  {
   "cell_type": "code",
   "execution_count": null,
   "metadata": {
    "collapsed": true
   },
   "outputs": [],
   "source": [
    "import numpy as np\n",
    "import scipy as sp\n",
    "\n",
    "from ephys import core, events, rasters"
   ]
  },
  {
   "cell_type": "markdown",
   "metadata": {},
   "source": [
    "## Load of the data\n",
    "\n",
    "Set 'block_path' to the path of the folder containing your post-manually sorted data"
   ]
  },
  {
   "cell_type": "code",
   "execution_count": null,
   "metadata": {
    "collapsed": true
   },
   "outputs": [],
   "source": [
    "block_path = '/mnt/cube/ephys-example-data/'\n",
    "spikes     = core.load_spikes(block_path)\n",
    "clusters   = core.load_clusters(block_path)\n",
    "trials     = events.load_trials(block_path)\n",
    "fs         = core.load_fs(block_path)"
   ]
  },
  {
   "cell_type": "markdown",
   "metadata": {},
   "source": [
    "## Plot rasters of each trial from each Good unit for all stims\n",
    "\n"
   ]
  },
  {
   "cell_type": "code",
   "execution_count": null,
   "metadata": {
    "collapsed": true
   },
   "outputs": [],
   "source": [
    "stims = trials['stimulus'].unique()\n",
    "f, pltaxes = plt.subplots(4, 4, sharey=True, figsize=(22,18))\n",
    "clusterID = 8\n",
    "raster_window = [-2, 2]\n",
    "rec = 0\n",
    "for ind, stim in enumerate(stims):\n",
    "    ax = pltaxes.flatten()[ind]\n",
    "    rasters.plot_raster_cell_stim(spikes, trials, clusterID, stim, \n",
    "                                  raster_window, rec, fs, ax=ax)\n",
    "    ax.set_title('Cell: {} Stim: {}'.format(str(8), stim))"
   ]
  }
 ],
 "metadata": {
  "kernelspec": {
   "display_name": "Python 2",
   "language": "python",
   "name": "python2"
  },
  "language_info": {
   "codemirror_mode": {
    "name": "ipython",
    "version": 2
   },
   "file_extension": ".py",
   "mimetype": "text/x-python",
   "name": "python",
   "nbconvert_exporter": "python",
   "pygments_lexer": "ipython2",
   "version": "2.7.11"
  }
 },
 "nbformat": 4,
 "nbformat_minor": 0
}
