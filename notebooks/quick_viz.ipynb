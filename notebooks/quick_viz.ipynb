{
 "cells": [
  {
   "cell_type": "markdown",
   "metadata": {},
   "source": [
    "# Initial visualizations of your data\n",
    "\n",
    "This notebook is meant to let you quickly look at your post-manually sorted data"
   ]
  },
  {
   "cell_type": "code",
   "execution_count": 1,
   "metadata": {
    "collapsed": false
   },
   "outputs": [],
   "source": [
    "import numpy as np\n",
    "import scipy as sp\n",
    "import matplotlib.pyplot as plt\n",
    "import os\n",
    "import sys\n",
    "from ephys import core, events, rasters"
   ]
  },
  {
   "cell_type": "markdown",
   "metadata": {},
   "source": [
    "## Load the data\n",
    "\n",
    "Set 'block_path' to the path of the folder containing your post-manually sorted data"
   ]
  },
  {
   "cell_type": "code",
   "execution_count": 2,
   "metadata": {
    "collapsed": false
   },
   "outputs": [],
   "source": [
    "block_path = '/home/brad/cube/Ice/kperks/B1112/klusta/phy041316/Pen01_Lft_AP300_ML700__Site04_Z3300__B1112_cat_P01_S04_1/'\n",
    "spikes     = core.load_spikes(block_path)\n",
    "clusters   = core.load_clusters(block_path)\n",
    "trials     = events.load_trials(block_path)\n",
    "fs         = core.load_fs(block_path)\n",
    "rec        = 0 "
   ]
  },
  {
   "cell_type": "markdown",
   "metadata": {},
   "source": [
    "## Plot rasters of each trial from each Good unit for all stims\n",
    "\n"
   ]
  },
  {
   "cell_type": "code",
   "execution_count": 4,
   "metadata": {
    "collapsed": false
   },
   "outputs": [
    {
     "name": "stdout",
     "output_type": "stream",
     "text": [
      "61\n"
     ]
    },
    {
     "ename": "OSError",
     "evalue": "[Errno 17] File exists: '/home/brad/cube/Ice/kperks/B1112/klusta/phy041316/Pen01_Lft_AP300_ML700__Site04_Z3300__B1112_cat_P01_S04_1/rasters'",
     "output_type": "error",
     "traceback": [
      "\u001b[1;31m---------------------------------------------------------------------------\u001b[0m",
      "\u001b[1;31mOSError\u001b[0m                                   Traceback (most recent call last)",
      "\u001b[1;32m<ipython-input-4-bbe6efedeca9>\u001b[0m in \u001b[0;36m<module>\u001b[1;34m()\u001b[0m\n\u001b[0;32m     10\u001b[0m \u001b[1;31m# Make a figure directory\u001b[0m\u001b[1;33m\u001b[0m\u001b[1;33m\u001b[0m\u001b[0m\n\u001b[0;32m     11\u001b[0m \u001b[0mraster_dir\u001b[0m \u001b[1;33m=\u001b[0m \u001b[0mos\u001b[0m\u001b[1;33m.\u001b[0m\u001b[0mpath\u001b[0m\u001b[1;33m.\u001b[0m\u001b[0mjoin\u001b[0m\u001b[1;33m(\u001b[0m\u001b[0mblock_path\u001b[0m\u001b[1;33m,\u001b[0m \u001b[1;34m'rasters'\u001b[0m\u001b[1;33m)\u001b[0m\u001b[1;33m\u001b[0m\u001b[0m\n\u001b[1;32m---> 12\u001b[1;33m \u001b[0mos\u001b[0m\u001b[1;33m.\u001b[0m\u001b[0mmkdir\u001b[0m\u001b[1;33m(\u001b[0m\u001b[0mraster_dir\u001b[0m\u001b[1;33m)\u001b[0m\u001b[1;33m\u001b[0m\u001b[0m\n\u001b[0m\u001b[0;32m     13\u001b[0m \u001b[1;33m\u001b[0m\u001b[0m\n\u001b[0;32m     14\u001b[0m \u001b[1;32mfor\u001b[0m \u001b[0mclusterID\u001b[0m \u001b[1;32min\u001b[0m \u001b[0mgood_cluster_ids\u001b[0m\u001b[1;33m:\u001b[0m\u001b[1;33m\u001b[0m\u001b[0m\n",
      "\u001b[1;31mOSError\u001b[0m: [Errno 17] File exists: '/home/brad/cube/Ice/kperks/B1112/klusta/phy041316/Pen01_Lft_AP300_ML700__Site04_Z3300__B1112_cat_P01_S04_1/rasters'"
     ]
    }
   ],
   "source": [
    "reload(rasters)\n",
    "good_clusters = clusters[clusters['quality']=='Good']\n",
    "good_cluster_ids = good_clusters['cluster'].unique()\n",
    "print(len(good_cluster_ids))\n",
    "# We have 16 stims, so let's go with a 4x4 subplot layout\n",
    "subplot_xy = [4,2]\n",
    "figsize = (22,20)\n",
    "period = [-2, 2]\n",
    "\n",
    "# Make a figure directory\n",
    "raster_dir = os.path.join(block_path, 'rasters')\n",
    "os.mkdir(raster_dir)\n",
    "\n",
    "for clusterID in good_cluster_ids:\n",
    "    print(clusterID)\n",
    "    fig = rasters.plot_unit_raster(spikes, trials, clusterID, period, rec, fs, subplot_xy, figsize)\n",
    "    raster_fname = os.path.join(raster_dir, 'unit{}_raster.png'.format(str(clusterID)))\n",
    "    fig.savefig(raster_fname)\n",
    "    plt.close(fig)"
   ]
  },
  {
   "cell_type": "markdown",
   "metadata": {},
   "source": [
    "## See a cell / stim combo that looked interesting?  Plot it here!"
   ]
  },
  {
   "cell_type": "code",
   "execution_count": 4,
   "metadata": {
    "collapsed": false
   },
   "outputs": [],
   "source": [
    "reload(rasters)\n",
    "clusterID = 62\n",
    "stims = ['E_scaled_burung', 'C_scaled_burung', 'B_scaled_burung', 'H_scaled_burung']\n",
    "trials_to_plot = trials[trials['stimulus'].isin(stims)]\n",
    "\n",
    "subplot_xy=[2,2]\n",
    "figsize=(22, 20)\n",
    "period=[-2, 2]\n",
    "raster_dir = os.path.join(block_path, 'rasters')\n",
    "\n",
    "\n",
    "fig = rasters.plot_unit_raster(spikes, trials_to_plot, clusterID, period, rec, fs, subplot_xy, figsize)\n",
    "raster_fname = os.path.join(raster_dir, 'unit{}_raster_specific_stims.png'.format(str(clusterID)))\n",
    "fig.savefig(raster_fname)\n",
    "plt.close(fig)"
   ]
  },
  {
   "cell_type": "markdown",
   "metadata": {},
   "source": [
    "## Plot Average, Gaussian Smoothed PSTHs for each Unit"
   ]
  },
  {
   "cell_type": "code",
   "execution_count": null,
   "metadata": {
    "collapsed": false
   },
   "outputs": [],
   "source": []
  },
  {
   "cell_type": "markdown",
   "metadata": {},
   "source": [
    "## Plot rasters of each MUA unit"
   ]
  },
  {
   "cell_type": "code",
   "execution_count": null,
   "metadata": {
    "collapsed": true
   },
   "outputs": [],
   "source": [
    "mua_clusters = clusters[clusters['quality']=='MUA']\n",
    "mua_cluster_ids = good_clusters['cluster'].unique()\n",
    "\n",
    "# We have 16 stims, so let's go with a 4x4 subplot layout\n",
    "subplot_xy = [4,4]\n",
    "figsize = (22,18)\n",
    "\n",
    "# Make a figure directory\n",
    "raster_dir = os.path.join(block_path, 'rasters')\n",
    "os.mkdir(raster_dir)\n",
    "\n",
    "for clusterID in good_cluster_ids:\n",
    "    fig = plot_unit_raster(spikes, trials, clusterID, rec, fs, subplot_xy, figsize)\n",
    "    raster_fname = os.path.join(raster_dir, 'unit{}_raster.png'.format(str(clusterID)))\n",
    "    fig.savefig(raster_fname)"
   ]
  }
 ],
 "metadata": {
  "kernelspec": {
   "display_name": "Python 2",
   "language": "python",
   "name": "python2"
  },
  "language_info": {
   "codemirror_mode": {
    "name": "ipython",
    "version": 2
   },
   "file_extension": ".py",
   "mimetype": "text/x-python",
   "name": "python",
   "nbconvert_exporter": "python",
   "pygments_lexer": "ipython2",
   "version": "2.7.11"
  }
 },
 "nbformat": 4,
 "nbformat_minor": 0
}
