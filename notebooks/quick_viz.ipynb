{
 "cells": [
  {
   "cell_type": "markdown",
   "metadata": {},
   "source": [
    "# Initial visualizations of your data\n",
    "\n",
    "This notebook is meant to let you quickly look at your post-manually sorted data"
   ]
  },
  {
   "cell_type": "code",
   "execution_count": null,
   "metadata": {
    "collapsed": true
   },
   "outputs": [],
   "source": [
    "import numpy as np\n",
    "import scipy as sp\n",
    "import os\n",
    "\n",
    "from ephys import core, events, rasters"
   ]
  },
  {
   "cell_type": "markdown",
   "metadata": {},
   "source": [
    "## Load of the data\n",
    "\n",
    "Set 'block_path' to the path of the folder containing your post-manually sorted data"
   ]
  },
  {
   "cell_type": "code",
   "execution_count": null,
   "metadata": {
    "collapsed": true
   },
   "outputs": [],
   "source": [
    "block_path = '/mnt/cube/ephys-example-data/'\n",
    "spikes     = core.load_spikes(block_path)\n",
    "clusters   = core.load_clusters(block_path)\n",
    "trials     = events.load_trials(block_path)\n",
    "fs         = core.load_fs(block_path)\n",
    "rec        = 0 "
   ]
  },
  {
   "cell_type": "markdown",
   "metadata": {},
   "source": [
    "## Plot rasters of each trial from each Good unit for all stims\n",
    "\n"
   ]
  },
  {
   "cell_type": "code",
   "execution_count": null,
   "metadata": {
    "collapsed": true
   },
   "outputs": [],
   "source": [
    "good_clusters = clusters[clusters['quality']=='Good']\n",
    "good_cluster_ids = good_clusters['cluster'].unique()\n",
    "\n",
    "# We have 16 stims, so let's go with a 4x4 subplot layout\n",
    "subplot_xy = [4,4]\n",
    "figsize = (22,18)\n",
    "\n",
    "# Make a figure directory\n",
    "raster_dir = os.path.join(block_path, 'rasters')\n",
    "os.mkdir(raster_dir)\n",
    "\n",
    "for clusterID in good_cluster_ids:\n",
    "    fig = plot_unit(spikes, trials, clusterID, rec, fs, subplot_xy, figsize)\n",
    "    raster_fname = os.path.join(raster_dir, 'unit{}_raster.png'.format(str(clusterID)))\n",
    "    fig.savefig(raster_fname)"
   ]
  },
  {
   "cell_type": "markdown",
   "metadata": {},
   "source": [
    "## Plot Average, Gaussian Smoothed PSTHs for each Unit"
   ]
  },
  {
   "cell_type": "code",
   "execution_count": null,
   "metadata": {
    "collapsed": true
   },
   "outputs": [],
   "source": []
  },
  {
   "cell_type": "markdown",
   "metadata": {},
   "source": [
    "## Plot rasters of each MUA unit"
   ]
  },
  {
   "cell_type": "code",
   "execution_count": null,
   "metadata": {
    "collapsed": true
   },
   "outputs": [],
   "source": [
    "mua_clusters = clusters[clusters['quality']=='MUA']\n",
    "mua_cluster_ids = good_clusters['cluster'].unique()\n",
    "\n",
    "# We have 16 stims, so let's go with a 4x4 subplot layout\n",
    "subplot_xy = [4,4]\n",
    "figsize = (22,18)\n",
    "\n",
    "# Make a figure directory\n",
    "raster_dir = os.path.join(block_path, 'rasters')\n",
    "os.mkdir(raster_dir)\n",
    "\n",
    "for clusterID in good_cluster_ids:\n",
    "    fig = plot_unit(spikes, trials, clusterID, rec, fs, subplot_xy, figsize)\n",
    "    raster_fname = os.path.join(raster_dir, 'unit{}_raster.png'.format(str(clusterID)))\n",
    "    fig.savefig(raster_fname)"
   ]
  }
 ],
 "metadata": {
  "kernelspec": {
   "display_name": "Python 2",
   "language": "python",
   "name": "python2"
  },
  "language_info": {
   "codemirror_mode": {
    "name": "ipython",
    "version": 2
   },
   "file_extension": ".py",
   "mimetype": "text/x-python",
   "name": "python",
   "nbconvert_exporter": "python",
   "pygments_lexer": "ipython2",
   "version": "2.7.11"
  }
 },
 "nbformat": 4,
 "nbformat_minor": 0
}
