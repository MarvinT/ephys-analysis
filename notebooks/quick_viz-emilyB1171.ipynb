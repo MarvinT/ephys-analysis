{
 "cells": [
  {
   "cell_type": "markdown",
   "metadata": {},
   "source": [
    "# Initial visualizations of your data\n",
    "\n",
    "This notebook is meant to let you quickly look at your post-manually sorted data"
   ]
  },
  {
   "cell_type": "code",
   "execution_count": 1,
   "metadata": {
    "collapsed": false
   },
   "outputs": [],
   "source": [
    "import numpy as np\n",
    "import scipy as sp\n",
    "import matplotlib.pyplot as plt\n",
    "import os\n",
    "import sys\n",
    "from ephys import core, events, rasters\n",
    "import pandas as pd"
   ]
  },
  {
   "cell_type": "markdown",
   "metadata": {},
   "source": [
    "## Load the data\n",
    "\n",
    "Set 'block_path' to the path of the folder containing your post-manually sorted data"
   ]
  },
  {
   "cell_type": "code",
   "execution_count": 3,
   "metadata": {
    "collapsed": false
   },
   "outputs": [],
   "source": [
    "block_path = '/home/brad/cube/Ice/kperks/B1112/klusta/phy041316/Pen01_Lft_AP300_ML700__Site04_Z3300__B1112_cat_P01_S04_1/'\n",
    "block_path = '/mnt/cube/btheilma/emily/B1171/klusta/phy103116/Pen02_Lft_AP2500_ML1200__Site14_Z2570__B1171_cat_P02_S14_1/'\n",
    "block_path = '/mnt/cube/btheilma/emily/B1171/klusta/phy103116/Pen02_Lft_AP2500_ML1200__Site15_Z2780__B1171_cat_P02_S15_1/'\n",
    "block_path = '/mnt/cube/btheilma/emily/B604/klusta/phy103116/Pen01_Lft_AP2300_ML1250__Site13_Z2641__B604_cat_P01_S13_1/'\n",
    "block_path = '/mnt/cube/btheilma/emily/B604/klusta/phy103116/Pen01_Lft_AP2300_ML1250__Site15_Z2780__B604_cat_P01_S15_1/'\n",
    "#block_path = '/mnt/cube/btheilma/emily/B604/klusta/phy103116/Pen01_Lft_AP2300_ML1250__Site16_Z2865__B604_cat_P01_S16_1/'\n",
    "spikes     = core.load_spikes(block_path)\n",
    "clusters   = core.load_clusters(block_path)\n",
    "trials     = events.load_trials(block_path)\n",
    "fs         = core.load_fs(block_path)\n",
    "rec        = 0 "
   ]
  },
  {
   "cell_type": "code",
   "execution_count": 4,
   "metadata": {
    "collapsed": false
   },
   "outputs": [
    {
     "name": "stdout",
     "output_type": "stream",
     "text": [
      "     recording  time_samples stimulus  stimulus_end response  response_time  \\\n",
      "219          3         50001  T3S3D40        162499        L       166542.0   \n",
      "330          4         50001  T3S3D40        162500        L       162502.0   \n",
      "440          5         50001  T3S3D40        162499        L       162680.0   \n",
      "484          7         50001  T3S3D40        162500        R       169945.0   \n",
      "495          8         50001  T3S3D40        162500        R       179319.0   \n",
      "506          9         50001  T3S3D40        162500        L       187544.0   \n",
      "132         22         50001  T3S3D40        162500        R       177633.0   \n",
      "142         23         50001  T3S3D40        162500        L       250816.0   \n",
      "208         29         50001  T3S3D40        162500        R       165876.0   \n",
      "220         30         50001  T3S3D40        162501        N       275001.0   \n",
      "231         31         50001  T3S3D40        162500        L       211549.0   \n",
      "275         35         50001  T3S3D40        162500        L       162507.0   \n",
      "286         36         50001  T3S3D40        162499        L       167944.0   \n",
      "342         41         50001  T3S3D40        162499        R       165209.0   \n",
      "353         42         50001  T3S3D40        162500        L       164036.0   \n",
      "419         48         50001  T3S3D40        162500        R       164011.0   \n",
      "441         50         50001  T3S3D40        162499        L       162500.0   \n",
      "452         51         50001  T3S3D40        162500        L       162502.0   \n",
      "472         59         50001  T3S3D40        162500        L       162501.0   \n",
      "478         64         50001  T3S3D40        162499        L       166821.0   \n",
      "481         67         50001  T3S3D40        162500        R       164504.0   \n",
      "482         68         50001  T3S3D40        162500        L       164211.0   \n",
      "488         73         50001  T3S3D40        162500        L       167456.0   \n",
      "492         77         50001  T3S3D40        162500        R       162502.0   \n",
      "493         78         50001  T3S3D40        162500        L       252139.0   \n",
      "502         86         50001  T3S3D40        162501        R       162503.0   \n",
      "503         87         50001  T3S3D40        162500        R       221077.0   \n",
      "504         88         50001  T3S3D40        162500        R       208525.0   \n",
      "505         89         50001  T3S3D40        162500        L       219139.0   \n",
      "510         93         50001  T3S3D40        162501        L       205156.0   \n",
      "..         ...           ...      ...           ...      ...            ...   \n",
      "13         110         50001  T3S3D40        162501      NaN            NaN   \n",
      "17         114         50001  T3S3D40        162501      NaN            NaN   \n",
      "19         116         50001  T3S3D40        162501      NaN            NaN   \n",
      "20         117         50001  T3S3D40        162501      NaN            NaN   \n",
      "29         125         50001  T3S3D40        162501      NaN            NaN   \n",
      "30         126         50001  T3S3D40        162501      NaN            NaN   \n",
      "35         130         50001  T3S3D40        162501      NaN            NaN   \n",
      "370        435         50000  T3S3D40        162500      NaN            NaN   \n",
      "374        439         50001  T3S3D40        162501      NaN            NaN   \n",
      "377        441         50001  T3S3D40        162501      NaN            NaN   \n",
      "379        443         50001  T3S3D40        162501      NaN            NaN   \n",
      "381        445         50001  T3S3D40        162501      NaN            NaN   \n",
      "389        452         50001  T3S3D40        162501      NaN            NaN   \n",
      "392        455         50001  T3S3D40        162501      NaN            NaN   \n",
      "393        456         50001  T3S3D40        162501      NaN            NaN   \n",
      "394        457         50001  T3S3D40        162501      NaN            NaN   \n",
      "405        467         50001  T3S3D40        162501      NaN            NaN   \n",
      "410        471         50001  T3S3D40        162500        L       165670.0   \n",
      "415        476         50001  T3S3D40        162501        L       165685.0   \n",
      "416        477         50001  T3S3D40        162500        L       178174.0   \n",
      "422        482         50001  T3S3D40        162501        R       171577.0   \n",
      "423        483         50001  T3S3D40        162501        L       199759.0   \n",
      "444        502         50001  T3S3D40        162500        L       177574.0   \n",
      "449        507         50001  T3S3D40        162500        R       185754.0   \n",
      "450        508         50001  T3S3D40        162501        L       190643.0   \n",
      "451        509         50001  T3S3D40        162500        L       204970.0   \n",
      "453        510         50001  T3S3D40        162501        R       162503.0   \n",
      "454        511         50001  T3S3D40        162500        L       246623.0   \n",
      "455        512         50001  T3S3D40        162501        L       191225.0   \n",
      "459        516         50001  T3S3D40        162500        L       243065.0   \n",
      "\n",
      "    consequence correct                   datetime correction  \n",
      "219           f    True 2016-07-05 13:00:26.425200      False  \n",
      "330           F    True 2016-07-05 13:00:35.933960      False  \n",
      "440           f    True 2016-07-05 13:00:47.254400      False  \n",
      "484           T   False 2016-07-05 13:01:08.021800      False  \n",
      "495           T   False 2016-07-05 13:01:15.919760       True  \n",
      "506           f    True 2016-07-05 13:01:24.192640       True  \n",
      "132           T   False 2016-07-05 13:03:29.031280      False  \n",
      "142           f    True 2016-07-05 13:03:37.236720       True  \n",
      "208           T   False 2016-07-05 13:04:43.452400      False  \n",
      "220         NaN     NaN 2016-07-05 13:04:51.187560       True  \n",
      "231           F    True 2016-07-05 13:05:04.287640       True  \n",
      "275           F    True 2016-07-05 13:05:44.662720      False  \n",
      "286           F    True 2016-07-05 13:05:55.983240      False  \n",
      "342           T   False 2016-07-05 13:06:41.978240      False  \n",
      "353           f    True 2016-07-05 13:06:49.686720       True  \n",
      "419           T   False 2016-07-05 13:07:44.512440      False  \n",
      "441           f    True 2016-07-05 13:07:57.273120       True  \n",
      "452           f    True 2016-07-05 13:08:06.621680      False  \n",
      "472           F    True 2016-07-05 13:09:20.954160      False  \n",
      "478           f    True 2016-07-05 13:10:06.452240      False  \n",
      "481           T   False 2016-07-05 13:10:33.798120      False  \n",
      "482           f    True 2016-07-05 13:10:41.478440       True  \n",
      "488           f    True 2016-07-05 13:11:32.090000      False  \n",
      "492           T   False 2016-07-05 13:12:13.030880      False  \n",
      "493           f    True 2016-07-05 13:12:20.631120       True  \n",
      "502           T   False 2016-07-05 13:13:44.216360      False  \n",
      "503           T   False 2016-07-05 13:13:51.816600       True  \n",
      "504           T   False 2016-07-05 13:14:01.759840       True  \n",
      "505           f    True 2016-07-05 13:14:11.201000       True  \n",
      "510           f    True 2016-07-05 13:14:50.532440      False  \n",
      "..          ...     ...                        ...        ...  \n",
      "13          NaN     NaN 2016-07-05 13:17:09.372440       True  \n",
      "17          NaN     NaN 2016-07-05 13:17:41.681760       True  \n",
      "19          NaN     NaN 2016-07-05 13:17:57.777920       True  \n",
      "20          NaN     NaN 2016-07-05 13:18:05.694920       True  \n",
      "29          NaN     NaN 2016-07-05 13:19:06.023080       True  \n",
      "30          NaN     NaN 2016-07-05 13:19:14.249200       True  \n",
      "35          NaN     NaN 2016-07-05 13:19:44.261880       True  \n",
      "370         NaN     NaN 2016-07-05 14:05:55.237440       True  \n",
      "374         NaN     NaN 2016-07-05 14:06:22.127760       True  \n",
      "377         NaN     NaN 2016-07-05 14:06:38.141600       True  \n",
      "379         NaN     NaN 2016-07-05 14:06:53.751760       True  \n",
      "381         NaN     NaN 2016-07-05 14:07:10.292880       True  \n",
      "389         NaN     NaN 2016-07-05 14:08:04.372440       True  \n",
      "392         NaN     NaN 2016-07-05 14:08:28.512440       True  \n",
      "393         NaN     NaN 2016-07-05 14:08:36.743800       True  \n",
      "394         NaN     NaN 2016-07-05 14:08:45.137640       True  \n",
      "405         NaN     NaN 2016-07-05 14:10:01.261840       True  \n",
      "410           F    True 2016-07-05 14:10:32.419600       True  \n",
      "415           F    True 2016-07-05 14:11:18.713560      False  \n",
      "416           f    True 2016-07-05 14:11:30.160080      False  \n",
      "422           T   False 2016-07-05 14:12:22.559280      False  \n",
      "423           f    True 2016-07-05 14:12:30.522480       True  \n",
      "444           f    True 2016-07-05 14:15:45.847920      False  \n",
      "449           T   False 2016-07-05 14:16:32.221920      False  \n",
      "450           f    True 2016-07-05 14:16:40.752200       True  \n",
      "451           f    True 2016-07-05 14:16:51.226760      False  \n",
      "453           T   False 2016-07-05 14:17:02.275440      False  \n",
      "454           f    True 2016-07-05 14:17:09.875680       True  \n",
      "455           f    True 2016-07-05 14:17:22.591600      False  \n",
      "459           f    True 2016-07-05 14:18:04.071920      False  \n",
      "\n",
      "[64 rows x 10 columns]\n"
     ]
    }
   ],
   "source": [
    "st = trials[trials['stimulus']=='T3S3D40']\n",
    "print(st)\n",
    "Activetrials = trials[pd.notnull(trials['response'])]\n"
   ]
  },
  {
   "cell_type": "markdown",
   "metadata": {},
   "source": [
    "## Plot rasters of each trial from each Good unit for all stims\n",
    "\n"
   ]
  },
  {
   "cell_type": "code",
   "execution_count": null,
   "metadata": {
    "collapsed": false
   },
   "outputs": [],
   "source": [
    "reload(rasters)\n",
    "good_clusters = clusters[clusters['quality']=='Good']\n",
    "good_cluster_ids = good_clusters['cluster'].unique()\n",
    "print(len(good_cluster_ids))"
   ]
  },
  {
   "cell_type": "code",
   "execution_count": null,
   "metadata": {
    "collapsed": false
   },
   "outputs": [],
   "source": [
    "t=np.unique(trials['stimulus'].values)\n",
    "print(t)\n",
    "len(t)\n",
    "stims = trials['stimulus'].unique()\n",
    "print(stims[4])"
   ]
  },
  {
   "cell_type": "code",
   "execution_count": null,
   "metadata": {
    "collapsed": false
   },
   "outputs": [],
   "source": [
    "# We have 16 stims, so let's go with a 4x4 subplot layout\n",
    "subplot_xy = [6, 4]\n",
    "figsize = (28,20)\n",
    "period = [-2, 2]\n",
    "\n",
    "# Make a figure directory\n",
    "raster_dir = os.path.join(block_path, 'rasters')\n",
    "if not os.path.exists(raster_dir):\n",
    "    os.mkdir(raster_dir)\n",
    "\n",
    "for clusterID in good_cluster_ids:\n",
    "    print(clusterID)\n",
    "    fig = rasters.plot_unit_raster_emily(spikes, trials, clusterID, period, rec, fs, subplot_xy, figsize)\n",
    "    raster_fname = os.path.join(raster_dir, 'unit{}_raster.png'.format(str(clusterID)))\n",
    "    fig.savefig(raster_fname)\n",
    "    plt.close(fig)"
   ]
  },
  {
   "cell_type": "markdown",
   "metadata": {},
   "source": [
    "## See a cell / stim combo that looked interesting?  Plot it here!"
   ]
  },
  {
   "cell_type": "code",
   "execution_count": null,
   "metadata": {
    "collapsed": false
   },
   "outputs": [],
   "source": [
    "reload(rasters)\n",
    "clusterID = 9\n",
    "stims = ['E_scaled_burung', 'C_scaled_burung', 'B_scaled_burung', 'H_scaled_burung']\n",
    "stims = ['T3S3D-1', 'T3S3D40', 'T3S8D-1', 'T3S8D40', 'T40S40D-1', 'T40S40D3', 'T40S70D-1', 'T40S70D3']\n",
    "trials_to_plot = trials[trials['stimulus'].isin(stims)]\n",
    "\n",
    "subplot_xy=[4,2]\n",
    "figsize=(28, 20)\n",
    "period=[-2, 2]\n",
    "# Make a figure directory\n",
    "raster_dir = os.path.join(block_path, 'rasters')\n",
    "if not os.path.exists(raster_dir):\n",
    "    os.mkdir(raster_dir)\n",
    "\n",
    "fig = rasters.plot_unit_raster_emily(spikes, trials_to_plot, clusterID, period, rec, fs, subplot_xy, figsize)\n",
    "raster_fname = os.path.join(raster_dir, 'unit{}_raster_specific_stims.png'.format(str(clusterID)))\n",
    "fig.savefig(raster_fname)\n",
    "plt.close(fig)"
   ]
  },
  {
   "cell_type": "markdown",
   "metadata": {},
   "source": [
    "## Plot Average, Gaussian Smoothed PSTHs for each Unit"
   ]
  },
  {
   "cell_type": "code",
   "execution_count": null,
   "metadata": {
    "collapsed": false
   },
   "outputs": [],
   "source": []
  },
  {
   "cell_type": "markdown",
   "metadata": {},
   "source": [
    "## Plot rasters of each MUA unit"
   ]
  },
  {
   "cell_type": "code",
   "execution_count": null,
   "metadata": {
    "collapsed": false
   },
   "outputs": [],
   "source": [
    "mua_clusters = clusters[clusters['quality']=='MUA']\n",
    "mua_cluster_ids = good_clusters['cluster'].unique()\n",
    "\n",
    "reload(rasters)\n",
    "mua_clusters = clusters[clusters['quality']=='MUA']\n",
    "mua_cluster_ids = mua_clusters['cluster'].unique()\n",
    "print(len(good_cluster_ids))\n",
    "# We have 16 stims, so let's go with a 4x4 subplot layout\n",
    "subplot_xy = [6,4]\n",
    "figsize = (22,20)\n",
    "period = [-2, 2]\n",
    "\n",
    "# Make a figure directory\n",
    "raster_dir = os.path.join(block_path, 'rasters')\n",
    "if not os.path.exists(raster_dir):\n",
    "    os.mkdir(raster_dir)\n",
    "\n",
    "for clusterID in mua_cluster_ids:\n",
    "    print(clusterID)\n",
    "    fig = rasters.plot_unit_raster_emily(spikes, trials, clusterID, period, rec, fs, subplot_xy, figsize)\n",
    "    raster_fname = os.path.join(raster_dir, 'unit{}_MUAraster.png'.format(str(clusterID)))\n",
    "    fig.savefig(raster_fname)\n",
    "    plt.close(fig)"
   ]
  },
  {
   "cell_type": "code",
   "execution_count": 6,
   "metadata": {
    "collapsed": false
   },
   "outputs": [],
   "source": [
    "from ephys.spiketrains import get_spiketrain\n",
    "\n",
    "def plot_trial_raster_emily(spikes, trials, clusters, trialID, \n",
    "                            stim, period, rec, fs, plot_params=None, ax=None):\n",
    "\n",
    "    stim_trials = trials[trials['stimulus']==stim]\n",
    "    stim_recs = stim_trials['recording'].values\n",
    "    ntrials = len(stim_trials)\n",
    "\n",
    "    stim_starts = stim_trials['time_samples'].values\n",
    "    stim_ends = stim_trials['stimulus_end'].values\n",
    "\n",
    "    stim_start = stim_starts[trialID]\n",
    "    stim_end = stim_ends[trialID]\n",
    "    stim_end_seconds = (stim_end - stim_start)/fs\n",
    "    srec = stim_recs[trialID]\n",
    "\n",
    "    clusterIDs = clusters['cluster'].values\n",
    "    window = [period[0], stim_end_seconds+period[1]]\n",
    "    raster_data = []\n",
    "    for clu in clusterIDs:\n",
    "        sptrain = get_spiketrain(srec, stim_start, clu, spikes, window, fs)\n",
    "        raster_data.append(sptrain)\n",
    "    if plot_params == None:\n",
    "        rasters.do_raster(raster_data, window, [0, stim_end_seconds], ax) \n",
    "    else:\n",
    "        rasters.do_raster(raster_data, window, [0, stim_end_seconds], ax, \n",
    "                  spike_linewidth=plot_params['spike_linewidth'],\n",
    "                  spike_color=plot_params['spike_color'],\n",
    "                  tick_linewidth=plot_params['tick_linewidth'],\n",
    "                  tick_color=plot_params['tick_color'])"
   ]
  },
  {
   "cell_type": "code",
   "execution_count": 7,
   "metadata": {
    "collapsed": false
   },
   "outputs": [
    {
     "data": {
      "image/png": "[encoded data removed]",
      "text/plain": [
       "<matplotlib.figure.Figure at 0x7ff9265aa810>"
      ]
     },
     "metadata": {},
     "output_type": "display_data"
    }
   ],
   "source": [
    "%matplotlib inline\n",
    "cluster_group = ['Good', 'MUA']\n",
    "if cluster_group != None:\n",
    "    mask = np.ones(len(clusters.index)) < 0\n",
    "    for grp in cluster_group:\n",
    "        mask = np.logical_or(mask, clusters['quality'] == grp)\n",
    "goodMUAclusters = clusters[mask]\n",
    "fig = plt.figure()\n",
    "ax = plt.gca()\n",
    "plot_trial_raster_emily(spikes, Activetrials, goodMUAclusters, 6, 'T40S40D3', [-2, 2], 0, fs, ax=ax)\n",
    "plt.show()"
   ]
  },
  {
   "cell_type": "code",
   "execution_count": 8,
   "metadata": {
    "collapsed": false
   },
   "outputs": [
    {
     "data": {
      "image/png": "[encoded data removed]",
      "text/plain": [
       "<matplotlib.figure.Figure at 0x7ff9264fb590>"
      ]
     },
     "metadata": {},
     "output_type": "display_data"
    }
   ],
   "source": [
    "fig = plt.figure()\n",
    "ax = plt.gca()\n",
    "plot_trial_raster_emily(spikes, Activetrials, goodMUAclusters, 6, 'T40S70D3', [-2, 2], 0, fs, ax=ax)\n",
    "plt.show()"
   ]
  },
  {
   "cell_type": "markdown",
   "metadata": {},
   "source": [
    "# Threshold data and make rasters of thresholded data"
   ]
  },
  {
   "cell_type": "code",
   "execution_count": null,
   "metadata": {
    "collapsed": true
   },
   "outputs": [],
   "source": []
  }
 ],
 "metadata": {
  "kernelspec": {
   "display_name": "Python 2",
   "language": "python",
   "name": "python2"
  },
  "language_info": {
   "codemirror_mode": {
    "name": "ipython",
    "version": 2
   },
   "file_extension": ".py",
   "mimetype": "text/x-python",
   "name": "python",
   "nbconvert_exporter": "python",
   "pygments_lexer": "ipython2",
   "version": "2.7.13"
  }
 },
 "nbformat": 4,
 "nbformat_minor": 0
}
