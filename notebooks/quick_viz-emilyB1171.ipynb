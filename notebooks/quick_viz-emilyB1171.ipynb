{
 "cells": [
  {
   "cell_type": "markdown",
   "metadata": {},
   "source": [
    "# Initial visualizations of your data\n",
    "\n",
    "This notebook is meant to let you quickly look at your post-manually sorted data"
   ]
  },
  {
   "cell_type": "code",
   "execution_count": 1,
   "metadata": {
    "collapsed": false
   },
   "outputs": [],
   "source": [
    "import numpy as np\n",
    "import scipy as sp\n",
    "import matplotlib.pyplot as plt\n",
    "import os\n",
    "import sys\n",
    "from ephys import core, events, rasters\n",
    "import pandas as pd"
   ]
  },
  {
   "cell_type": "markdown",
   "metadata": {},
   "source": [
    "## Load the data\n",
    "\n",
    "Set 'block_path' to the path of the folder containing your post-manually sorted data"
   ]
  },
  {
   "cell_type": "code",
   "execution_count": 2,
   "metadata": {
    "collapsed": false
   },
   "outputs": [],
   "source": [
    "block_path = '/home/brad/cube/Ice/kperks/B1112/klusta/phy041316/Pen01_Lft_AP300_ML700__Site04_Z3300__B1112_cat_P01_S04_1/'\n",
    "block_path = '/mnt/cube/btheilma/emily/B1171/klusta/phy103116/Pen02_Lft_AP2500_ML1200__Site14_Z2570__B1171_cat_P02_S14_1/'\n",
    "block_path = '/mnt/cube/btheilma/emily/B1171/klusta/phy103116/Pen02_Lft_AP2500_ML1200__Site15_Z2780__B1171_cat_P02_S15_1/'\n",
    "block_path = '/mnt/cube/btheilma/emily/B604/klusta/phy103116/Pen01_Lft_AP2300_ML1250__Site13_Z2641__B604_cat_P01_S13_1/'\n",
    "block_path = '/mnt/cube/btheilma/emily/B604/klusta/phy103116/Pen01_Lft_AP2300_ML1250__Site15_Z2780__B604_cat_P01_S15_1/'\n",
    "#block_path = '/mnt/cube/btheilma/emily/B604/klusta/phy103116/Pen01_Lft_AP2300_ML1250__Site16_Z2865__B604_cat_P01_S16_1/'\n",
    "spikes     = core.load_spikes(block_path)\n",
    "clusters   = core.load_clusters(block_path)\n",
    "trials     = events.load_trials(block_path)\n",
    "fs         = core.load_fs(block_path)\n",
    "rec        = 0 "
   ]
  },
  {
   "cell_type": "code",
   "execution_count": null,
   "metadata": {
    "collapsed": false
   },
   "outputs": [],
   "source": [
    "st = trials[trials['stimulus']=='T3S3D40']\n",
    "print(st)\n",
    "stpassiv = st[pd.isnull(st['response'])]\n",
    "len(stpassiv)"
   ]
  },
  {
   "cell_type": "markdown",
   "metadata": {},
   "source": [
    "## Plot rasters of each trial from each Good unit for all stims\n",
    "\n"
   ]
  },
  {
   "cell_type": "code",
   "execution_count": null,
   "metadata": {
    "collapsed": false
   },
   "outputs": [],
   "source": [
    "reload(rasters)\n",
    "good_clusters = clusters[clusters['quality']=='Good']\n",
    "good_cluster_ids = good_clusters['cluster'].unique()\n",
    "print(len(good_cluster_ids))"
   ]
  },
  {
   "cell_type": "code",
   "execution_count": null,
   "metadata": {
    "collapsed": false
   },
   "outputs": [],
   "source": [
    "t=np.unique(trials['stimulus'].values)\n",
    "print(t)\n",
    "len(t)\n",
    "stims = trials['stimulus'].unique()\n",
    "print(stims[4])"
   ]
  },
  {
   "cell_type": "code",
   "execution_count": null,
   "metadata": {
    "collapsed": false
   },
   "outputs": [],
   "source": [
    "# We have 16 stims, so let's go with a 4x4 subplot layout\n",
    "subplot_xy = [6, 4]\n",
    "figsize = (28,20)\n",
    "period = [-2, 2]\n",
    "\n",
    "# Make a figure directory\n",
    "raster_dir = os.path.join(block_path, 'rasters')\n",
    "if not os.path.exists(raster_dir):\n",
    "    os.mkdir(raster_dir)\n",
    "\n",
    "for clusterID in good_cluster_ids:\n",
    "    print(clusterID)\n",
    "    fig = rasters.plot_unit_raster_emily(spikes, trials, clusterID, period, rec, fs, subplot_xy, figsize)\n",
    "    raster_fname = os.path.join(raster_dir, 'unit{}_raster.png'.format(str(clusterID)))\n",
    "    fig.savefig(raster_fname)\n",
    "    plt.close(fig)"
   ]
  },
  {
   "cell_type": "markdown",
   "metadata": {},
   "source": [
    "## See a cell / stim combo that looked interesting?  Plot it here!"
   ]
  },
  {
   "cell_type": "code",
   "execution_count": null,
   "metadata": {
    "collapsed": false
   },
   "outputs": [],
   "source": [
    "reload(rasters)\n",
    "clusterID = 9\n",
    "stims = ['E_scaled_burung', 'C_scaled_burung', 'B_scaled_burung', 'H_scaled_burung']\n",
    "stims = ['T3S3D-1', 'T3S3D40', 'T3S8D-1', 'T3S8D40', 'T40S40D-1', 'T40S40D3', 'T40S70D-1', 'T40S70D3']\n",
    "trials_to_plot = trials[trials['stimulus'].isin(stims)]\n",
    "\n",
    "subplot_xy=[4,2]\n",
    "figsize=(28, 20)\n",
    "period=[-2, 2]\n",
    "# Make a figure directory\n",
    "raster_dir = os.path.join(block_path, 'rasters')\n",
    "if not os.path.exists(raster_dir):\n",
    "    os.mkdir(raster_dir)\n",
    "\n",
    "fig = rasters.plot_unit_raster_emily(spikes, trials_to_plot, clusterID, period, rec, fs, subplot_xy, figsize)\n",
    "raster_fname = os.path.join(raster_dir, 'unit{}_raster_specific_stims.png'.format(str(clusterID)))\n",
    "fig.savefig(raster_fname)\n",
    "plt.close(fig)"
   ]
  },
  {
   "cell_type": "markdown",
   "metadata": {},
   "source": [
    "## Plot Average, Gaussian Smoothed PSTHs for each Unit"
   ]
  },
  {
   "cell_type": "code",
   "execution_count": null,
   "metadata": {
    "collapsed": false
   },
   "outputs": [],
   "source": []
  },
  {
   "cell_type": "markdown",
   "metadata": {},
   "source": [
    "## Plot rasters of each MUA unit"
   ]
  },
  {
   "cell_type": "code",
   "execution_count": null,
   "metadata": {
    "collapsed": false
   },
   "outputs": [],
   "source": [
    "mua_clusters = clusters[clusters['quality']=='MUA']\n",
    "mua_cluster_ids = good_clusters['cluster'].unique()\n",
    "\n",
    "reload(rasters)\n",
    "mua_clusters = clusters[clusters['quality']=='MUA']\n",
    "mua_cluster_ids = mua_clusters['cluster'].unique()\n",
    "print(len(good_cluster_ids))\n",
    "# We have 16 stims, so let's go with a 4x4 subplot layout\n",
    "subplot_xy = [6,4]\n",
    "figsize = (22,20)\n",
    "period = [-2, 2]\n",
    "\n",
    "# Make a figure directory\n",
    "raster_dir = os.path.join(block_path, 'rasters')\n",
    "if not os.path.exists(raster_dir):\n",
    "    os.mkdir(raster_dir)\n",
    "\n",
    "for clusterID in mua_cluster_ids:\n",
    "    print(clusterID)\n",
    "    fig = rasters.plot_unit_raster_emily(spikes, trials, clusterID, period, rec, fs, subplot_xy, figsize)\n",
    "    raster_fname = os.path.join(raster_dir, 'unit{}_MUAraster.png'.format(str(clusterID)))\n",
    "    fig.savefig(raster_fname)\n",
    "    plt.close(fig)"
   ]
  },
  {
   "cell_type": "code",
   "execution_count": 5,
   "metadata": {
    "collapsed": false
   },
   "outputs": [],
   "source": [
    "from ephys.spiketrains import get_spiketrain\n",
    "\n",
    "def plot_trial_raster_emily(spikes, trials, clusters, trialID, \n",
    "                            stim, period, rec, fs, plot_params=None, ax=None):\n",
    "\n",
    "    stim_trials = trials[trials['stimulus']==stim]\n",
    "    stim_recs = stim_trials['recording'].values\n",
    "    ntrials = len(stim_trials)\n",
    "\n",
    "    stim_starts = stim_trials['time_samples'].values\n",
    "    stim_ends = stim_trials['stimulus_end'].values\n",
    "\n",
    "    stim_start = stim_starts[trialID]\n",
    "    stim_end = stim_ends[trialID]\n",
    "    stim_end_seconds = (stim_end - stim_start)/fs\n",
    "    srec = stim_recs[trialID]\n",
    "\n",
    "    clusterIDs = clusters['cluster'].values\n",
    "    window = [period[0], stim_end_seconds+period[1]]\n",
    "    raster_data = []\n",
    "    for clu in clusterIDs:\n",
    "        sptrain = get_spiketrain(srec, stim_start, clu, spikes, window, fs)\n",
    "        raster_data.append(sptrain)\n",
    "    if plot_params == None:\n",
    "        rasters.do_raster(raster_data, window, [0, stim_end_seconds], ax) \n",
    "    else:\n",
    "        rasters.do_raster(raster_data, window, [0, stim_end_seconds], ax, \n",
    "                  spike_linewidth=plot_params['spike_linewidth'],\n",
    "                  spike_color=plot_params['spike_color'],\n",
    "                  tick_linewidth=plot_params['tick_linewidth'],\n",
    "                  tick_color=plot_params['tick_color'])"
   ]
  },
  {
   "cell_type": "code",
   "execution_count": 14,
   "metadata": {
    "collapsed": false
   },
   "outputs": [
    {
     "data": {
      "image/png": "[encoded data removed]",
      "text/plain": [
       "<matplotlib.figure.Figure at 0x7f0e2dd88d90>"
      ]
     },
     "metadata": {},
     "output_type": "display_data"
    }
   ],
   "source": [
    "%matplotlib inline\n",
    "cluster_group = ['Good', 'MUA']\n",
    "if cluster_group != None:\n",
    "    mask = np.ones(len(clusters.index)) < 0\n",
    "    for grp in cluster_group:\n",
    "        mask = np.logical_or(mask, clusters['quality'] == grp)\n",
    "goodMUAclusters = clusters[mask]\n",
    "fig = plt.figure()\n",
    "ax = plt.gca()\n",
    "plot_trial_raster_emily(spikes, trials, goodMUAclusters, 6, 'T40S40D3', [-2, 2], 0, fs, ax=ax)\n",
    "plt.show()"
   ]
  },
  {
   "cell_type": "code",
   "execution_count": 15,
   "metadata": {
    "collapsed": false
   },
   "outputs": [
    {
     "data": {
      "image/png": "[encoded data removed]",
      "text/plain": [
       "<matplotlib.figure.Figure at 0x7f0e2fa142d0>"
      ]
     },
     "metadata": {},
     "output_type": "display_data"
    }
   ],
   "source": [
    "fig = plt.figure()\n",
    "ax = plt.gca()\n",
    "plot_trial_raster_emily(spikes, trials, goodMUAclusters, 6, 'T40S70D3', [-2, 2], 0, fs, ax=ax)\n",
    "plt.show()"
   ]
  },
  {
   "cell_type": "markdown",
   "metadata": {},
   "source": [
    "# Threshold data and make rasters of thresholded data"
   ]
  },
  {
   "cell_type": "code",
   "execution_count": null,
   "metadata": {
    "collapsed": true
   },
   "outputs": [],
   "source": []
  }
 ],
 "metadata": {
  "kernelspec": {
   "display_name": "Python 2",
   "language": "python",
   "name": "python2"
  },
  "language_info": {
   "codemirror_mode": {
    "name": "ipython",
    "version": 2
   },
   "file_extension": ".py",
   "mimetype": "text/x-python",
   "name": "python",
   "nbconvert_exporter": "python",
   "pygments_lexer": "ipython2",
   "version": "2.7.13"
  }
 },
 "nbformat": 4,
 "nbformat_minor": 0
}
